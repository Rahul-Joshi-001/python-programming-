{
 "cells": [
  {
   "cell_type": "markdown",
   "id": "f9f2319d",
   "metadata": {},
   "source": [
    "\n",
    "## Introduction to Stramlit\n",
    "Streamlit is an open-source app framework for Machine Learning and Data Scienece projects.It allows you to create beautiful web application for your machine learning and data scienec projects with simple python scripts."
   ]
  },
  {
   "cell_type": "markdown",
   "id": "f6fd06d7",
   "metadata": {},
   "source": []
  }
 ],
 "metadata": {
  "language_info": {
   "name": "python"
  }
 },
 "nbformat": 4,
 "nbformat_minor": 5
}
