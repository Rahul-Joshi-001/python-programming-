{
 "cells": [
  {
   "cell_type": "markdown",
   "id": "ab0d8811",
   "metadata": {},
   "source": [
    "# MutliThreading with Thread pool executor"
   ]
  },
  {
   "cell_type": "code",
   "execution_count": 2,
   "id": "e1f1740d",
   "metadata": {},
   "outputs": [],
   "source": [
    "from concurrent.futures import ThreadPoolExecutor\n",
    "import time"
   ]
  },
  {
   "cell_type": "code",
   "execution_count": null,
   "id": "b35a5937",
   "metadata": {},
   "outputs": [
    {
     "name": "stdout",
     "output_type": "stream",
     "text": [
      "numbers : 1\n",
      "numbers : 2\n",
      "numbers : 3\n",
      "numbers : 4\n",
      "numbers : 56\n",
      "numbers : 7\n",
      "numbers : 8\n",
      "numbers : 9\n",
      "numbers : 0\n",
      "numbers : 1\n",
      "numbers : 2\n",
      "numbers : 3\n",
      "numbers : 4\n"
     ]
    }
   ],
   "source": [
    "def print_num(number):\n",
    "    time.sleep(1)\n",
    "    return f\"numbers : {number}\"\n",
    "\n",
    "number = [1,2,3,4,56,7,8,9,0,1,2,3,4]\n",
    "\n",
    "with ThreadPoolExecutor(max_workers=3) as executor:\n",
    "    result = executor.map(print_num,number)\n",
    "\n",
    "for el in result:\n",
    "    print(el)\n",
    "\n",
    "\n"
   ]
  },
  {
   "cell_type": "code",
   "execution_count": null,
   "id": "c65420f0",
   "metadata": {},
   "outputs": [],
   "source": []
  }
 ],
 "metadata": {
  "kernelspec": {
   "display_name": "Python 3",
   "language": "python",
   "name": "python3"
  },
  "language_info": {
   "codemirror_mode": {
    "name": "ipython",
    "version": 3
   },
   "file_extension": ".py",
   "mimetype": "text/x-python",
   "name": "python",
   "nbconvert_exporter": "python",
   "pygments_lexer": "ipython3",
   "version": "3.12.3"
  }
 },
 "nbformat": 4,
 "nbformat_minor": 5
}
