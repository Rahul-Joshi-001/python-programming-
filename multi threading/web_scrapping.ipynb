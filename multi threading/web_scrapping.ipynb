{
 "cells": [
  {
   "cell_type": "markdown",
   "id": "31825e89",
   "metadata": {},
   "source": [
    "# Websrcaping with Multithreading"
   ]
  },
  {
   "cell_type": "code",
   "execution_count": null,
   "id": "b741ef7a",
   "metadata": {},
   "outputs": [
    {
     "name": "stdout",
     "output_type": "stream",
     "text": [
      "fetched 12237 character form https://python.langchain.com/docs/introduction/\n",
      "fetched 10221 character form https://www.langchain.com/pricing-langsmith\n",
      "fetched 4655 character form https://www.langchain.com/\n",
      "all web pages fetched\n"
     ]
    }
   ],
   "source": [
    "'''\n",
    "https://www.langchain.com/\n",
    "\n",
    "\n",
    "https://python.langchain.com/docs/introduction/\n",
    "\n",
    "\n",
    "https://www.langchain.com/pricing-langsmith\n",
    "''' \n",
    "\n",
    "import threading\n",
    "import requests\n",
    "from bs4 import BeautifulSoup\n",
    "\n",
    "urls=[\n",
    "'https://www.langchain.com/',\n",
    "\n",
    "'https://python.langchain.com/docs/introduction/',\n",
    "\n",
    "'https://www.langchain.com/pricing-langsmith'\n",
    "    \n",
    "]\n",
    "\n",
    "def ftech(url):\n",
    "    respone = requests.get(url)\n",
    "    soup = BeautifulSoup(respone.content,'html.parser')\n",
    "    print(f'fetched {len(soup.text)} character form {url}')\n",
    "\n",
    "threads = []\n",
    "\n",
    "for url in urls:\n",
    "    thread = threading.Thread(target= ftech,args=(url,))\n",
    "    threads.append(thread)\n",
    "    thread.start()\n",
    "\n",
    "for thread in threads:\n",
    "    thread.join()\n",
    "\n",
    "print (\"all web pages fetched\")"
   ]
  },
  {
   "cell_type": "code",
   "execution_count": 6,
   "id": "5390148b",
   "metadata": {},
   "outputs": [],
   "source": [
    "\n",
    "import multiprocessing\n",
    "import math\n",
    "import sys\n",
    "import time\n"
   ]
  },
  {
   "cell_type": "code",
   "execution_count": null,
   "id": "0390d128",
   "metadata": {},
   "outputs": [],
   "source": [
    "## Increase the maximum numbers of digits for integers convesion\n",
    "sys.set_int_max_str_digits(100000)\n",
    "\n",
    "## Function to compute factorial of a given number\n",
    "def fact(number):\n",
    "    print(f\"computing factorail of {number}\")\n",
    "    result = math.factorial(number)\n",
    "    print(f\"factorial of {number} is {result}\")\n",
    "    \n",
    "    "
   ]
  }
 ],
 "metadata": {
  "kernelspec": {
   "display_name": "Python 3",
   "language": "python",
   "name": "python3"
  },
  "language_info": {
   "codemirror_mode": {
    "name": "ipython",
    "version": 3
   },
   "file_extension": ".py",
   "mimetype": "text/x-python",
   "name": "python",
   "nbconvert_exporter": "python",
   "pygments_lexer": "ipython3",
   "version": "3.12.3"
  }
 },
 "nbformat": 4,
 "nbformat_minor": 5
}
