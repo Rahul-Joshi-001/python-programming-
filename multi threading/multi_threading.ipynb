{
 "cells": [
  {
   "cell_type": "markdown",
   "id": "4fe3de9b",
   "metadata": {},
   "source": [
    "multi threading \n",
    "when to use it \n",
    "I/o bound task\n",
    "concourrent execution\n"
   ]
  },
  {
   "cell_type": "code",
   "execution_count": 6,
   "id": "ad095717",
   "metadata": {},
   "outputs": [],
   "source": [
    "import threading\n",
    "import time"
   ]
  },
  {
   "cell_type": "code",
   "execution_count": 17,
   "id": "06d600cf",
   "metadata": {},
   "outputs": [
    {
     "name": "stdout",
     "output_type": "stream",
     "text": [
      "letter : a\n",
      "number:0\n",
      "letter : b\n",
      "number:1\n",
      "letter : cnumber:2\n",
      "\n",
      "number:3letter : d\n",
      "\n",
      "number:4letter : e\n",
      "\n",
      "5.005735635757446\n"
     ]
    }
   ],
   "source": [
    "def print_no():\n",
    "    for i in range(5):\n",
    "        time.sleep(1)\n",
    "        print(f\"number:{i}\")\n",
    "\n",
    "def print_aplha():\n",
    "    for letter in \"abcde\":\n",
    "        time.sleep(1)\n",
    "        print(f\"letter : {letter}\")\n",
    "\n",
    "t1 = threading.Thread(target = print_no)\n",
    "t2 = threading.Thread(target= print_aplha)\n",
    "\n",
    "t = time.time()\n",
    "#start the thread\n",
    "t1.start()\n",
    "t2.start()\n",
    "\n",
    "#wait for the threads to complete\n",
    "t1.join()\n",
    "t2.join()\n",
    "\n",
    "finished_time = time.time() - t\n",
    "print(finished_time)"
   ]
  },
  {
   "cell_type": "markdown",
   "id": "d4055875",
   "metadata": {},
   "source": [
    "# MultiProcessing"
   ]
  },
  {
   "cell_type": "markdown",
   "id": "06999b9e",
   "metadata": {},
   "source": [
    "process that runs in parallel\n",
    "cpu bounded task\n",
    "parallel execution - multiple cores of the cpu\n"
   ]
  },
  {
   "cell_type": "code",
   "execution_count": 24,
   "id": "ba0406de",
   "metadata": {},
   "outputs": [],
   "source": [
    "import multiprocessing\n",
    "import time"
   ]
  },
  {
   "cell_type": "code",
   "execution_count": null,
   "id": "89746291",
   "metadata": {},
   "outputs": [
    {
     "name": "stdout",
     "output_type": "stream",
     "text": [
      "0.09518170356750488\n"
     ]
    }
   ],
   "source": [
    "def square():\n",
    "    for i in range(5):\n",
    "        time.sleep(1)\n",
    "        print(f\"square : {i*i}\")\n",
    "\n",
    "def cube():\n",
    "    for i in range(5):\n",
    "        time.sleep(1.5)\n",
    "        print(f\"cube : {i*i*i}\")\n",
    "\n",
    "if __name__==\"__main__\":\n",
    "    #create tow process\n",
    "    p1 = multiprocessing.Process(target = square)\n",
    "    p2 = multiprocessing.Process(target = cube)\n",
    "\n",
    "    t0= time.time()\n",
    "    #start the process\n",
    "    p1.start()\n",
    "    p2.start()\n",
    "\n",
    "    #wait for the threads to complete\n",
    "\n",
    "    p1.join()\n",
    "    p2.join()\n",
    "\n",
    "    ftime = time.time() - t0 \n",
    "    print(ftime)\n",
    "\n",
    "\n",
    "\n"
   ]
  },
  {
   "cell_type": "code",
   "execution_count": null,
   "id": "43d49f8b",
   "metadata": {},
   "outputs": [],
   "source": []
  }
 ],
 "metadata": {
  "kernelspec": {
   "display_name": "Python 3",
   "language": "python",
   "name": "python3"
  },
  "language_info": {
   "codemirror_mode": {
    "name": "ipython",
    "version": 3
   },
   "file_extension": ".py",
   "mimetype": "text/x-python",
   "name": "python",
   "nbconvert_exporter": "python",
   "pygments_lexer": "ipython3",
   "version": "3.12.3"
  }
 },
 "nbformat": 4,
 "nbformat_minor": 5
}
