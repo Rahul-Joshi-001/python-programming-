{
 "cells": [
  {
   "cell_type": "markdown",
   "id": "181231d1",
   "metadata": {},
   "source": [
    "SQL (strucured quesry language) is a standard language for managing and realtional databases. SQLite is a self-contained,serveless,and zero-configuration database engine that is widely used for embedded database system"
   ]
  },
  {
   "cell_type": "code",
   "execution_count": 48,
   "id": "c65faf80",
   "metadata": {},
   "outputs": [],
   "source": [
    "import sqlite3"
   ]
  },
  {
   "cell_type": "code",
   "execution_count": 49,
   "id": "8813c57b",
   "metadata": {},
   "outputs": [
    {
     "data": {
      "text/plain": [
       "<sqlite3.Connection at 0x1ba6bb94e50>"
      ]
     },
     "execution_count": 49,
     "metadata": {},
     "output_type": "execute_result"
    }
   ],
   "source": [
    "#connect to an sqlite\n",
    "connection = sqlite3.connect('example.db')\n",
    "connection"
   ]
  },
  {
   "cell_type": "code",
   "execution_count": 50,
   "id": "8c0a8d6d",
   "metadata": {},
   "outputs": [],
   "source": [
    "cursor = connection.cursor()"
   ]
  },
  {
   "cell_type": "code",
   "execution_count": 51,
   "id": "3880d746",
   "metadata": {},
   "outputs": [],
   "source": [
    "cursor.execute('DROP TABLE IF EXISTS employees')\n",
    "connection.commit()\n",
    "\n",
    "cursor.execute('''\n",
    "    CREATE TABLE employees(\n",
    "        id INTEGER PRIMARY KEY,\n",
    "        name TEXT NOT NULL,\n",
    "        age INTEGER,\n",
    "        department TEXT\n",
    "    )\n",
    "''')\n",
    "connection.commit()\n"
   ]
  },
  {
   "cell_type": "code",
   "execution_count": 52,
   "id": "016f313f",
   "metadata": {},
   "outputs": [
    {
     "data": {
      "text/plain": [
       "<sqlite3.Cursor at 0x1ba6bb64d40>"
      ]
     },
     "execution_count": 52,
     "metadata": {},
     "output_type": "execute_result"
    }
   ],
   "source": [
    "cursor.execute('''\n",
    "    select * from employees\n",
    "''')"
   ]
  },
  {
   "cell_type": "code",
   "execution_count": 55,
   "id": "058e057a",
   "metadata": {},
   "outputs": [],
   "source": [
    "# Insert data with different values for each row\n",
    "cursor.execute('''\n",
    "Insert Into employees(name, age, department)\n",
    "values('Krish', 32, 'Software Engineer')\n",
    "''')\n",
    "\n",
    "cursor.execute('''\n",
    "Insert Into employees(name, age, department)\n",
    "values('Bob', 40, 'Product Manager')\n",
    "''')\n",
    "\n",
    "cursor.execute('''\n",
    "Insert Into employees(name, age, department)\n",
    "values('Charlie', 35, 'Data Analyst')\n",
    "''')\n",
    "\n",
    "# Commit the changes to the database\n",
    "connection.commit()\n",
    "\n",
    "\n"
   ]
  },
  {
   "cell_type": "code",
   "execution_count": 56,
   "id": "ef44e176",
   "metadata": {},
   "outputs": [
    {
     "name": "stdout",
     "output_type": "stream",
     "text": [
      "(1, 'Krish', 32, 'Software Engineer')\n",
      "(2, 'Bob', 40, 'Product Manager')\n",
      "(3, 'Charlie', 35, 'Data Analyst')\n"
     ]
    }
   ],
   "source": [
    "#quering the data from table \n",
    "cursor.execute('select * from employees')\n",
    "rows = cursor.fetchall()\n",
    "\n",
    "#print the data\n",
    "for row in rows:\n",
    "    print(row)"
   ]
  },
  {
   "cell_type": "code",
   "execution_count": 57,
   "id": "285f4888",
   "metadata": {},
   "outputs": [],
   "source": [
    "#update data in the table \n",
    "\n",
    "cursor.execute('''\n",
    "UPDATE employees\n",
    "set age = 53\n",
    "where name = 'Krish'       \n",
    "''')\n",
    "\n",
    "connection.commit()\n",
    "\n"
   ]
  },
  {
   "cell_type": "code",
   "execution_count": 58,
   "id": "6144d87f",
   "metadata": {},
   "outputs": [
    {
     "name": "stdout",
     "output_type": "stream",
     "text": [
      "(1, 'Krish', 53, 'Software Engineer')\n",
      "(2, 'Bob', 40, 'Product Manager')\n",
      "(3, 'Charlie', 35, 'Data Analyst')\n"
     ]
    }
   ],
   "source": [
    "#quering the data from table \n",
    "cursor.execute('select * from employees')\n",
    "rows = cursor.fetchall()\n",
    "\n",
    "#print the data\n",
    "for row in rows:\n",
    "    print(row)"
   ]
  },
  {
   "cell_type": "code",
   "execution_count": 59,
   "id": "c6a68647",
   "metadata": {},
   "outputs": [
    {
     "data": {
      "text/plain": [
       "<sqlite3.Cursor at 0x1ba6bb64d40>"
      ]
     },
     "execution_count": 59,
     "metadata": {},
     "output_type": "execute_result"
    }
   ],
   "source": [
    "# Delete the data from the table\n",
    "cursor.execute('''\n",
    "DELETE from employees\n",
    "               where name = 'Krish'\n",
    "''')"
   ]
  },
  {
   "cell_type": "code",
   "execution_count": 60,
   "id": "46af2c32",
   "metadata": {},
   "outputs": [
    {
     "name": "stdout",
     "output_type": "stream",
     "text": [
      "(2, 'Bob', 40, 'Product Manager')\n",
      "(3, 'Charlie', 35, 'Data Analyst')\n"
     ]
    }
   ],
   "source": [
    "#quering the data from table \n",
    "cursor.execute('select * from employees')\n",
    "rows = cursor.fetchall()\n",
    "\n",
    "#print the data\n",
    "for row in rows:\n",
    "    print(row)"
   ]
  },
  {
   "cell_type": "code",
   "execution_count": 61,
   "id": "f4267096",
   "metadata": {},
   "outputs": [],
   "source": [
    "##close the connection\n",
    "connection.close()"
   ]
  },
  {
   "cell_type": "code",
   "execution_count": null,
   "id": "ac7c420f",
   "metadata": {},
   "outputs": [],
   "source": []
  }
 ],
 "metadata": {
  "kernelspec": {
   "display_name": "Python 3",
   "language": "python",
   "name": "python3"
  },
  "language_info": {
   "codemirror_mode": {
    "name": "ipython",
    "version": 3
   },
   "file_extension": ".py",
   "mimetype": "text/x-python",
   "name": "python",
   "nbconvert_exporter": "python",
   "pygments_lexer": "ipython3",
   "version": "3.12.3"
  }
 },
 "nbformat": 4,
 "nbformat_minor": 5
}
