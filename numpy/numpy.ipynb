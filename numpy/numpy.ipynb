{
 "cells": [
  {
   "cell_type": "markdown",
   "id": "75175f53",
   "metadata": {},
   "source": [
    "**numpy tutorial"
   ]
  },
  {
   "cell_type": "code",
   "execution_count": 43,
   "id": "8c00f196",
   "metadata": {},
   "outputs": [],
   "source": [
    "import numpy as np"
   ]
  },
  {
   "cell_type": "code",
   "execution_count": 44,
   "id": "228eb9f9",
   "metadata": {},
   "outputs": [
    {
     "name": "stdout",
     "output_type": "stream",
     "text": [
      "[1 2 3 4 5]\n",
      "4\n",
      "(5,)\n",
      "int64\n"
     ]
    }
   ],
   "source": [
    "myarr = np.array([1,2,3,4,5])\n",
    "print(myarr)\n",
    "print(myarr[3])\n",
    "print(myarr.shape)\n",
    "print(myarr.dtype)"
   ]
  },
  {
   "cell_type": "code",
   "execution_count": 45,
   "id": "49d2bcb1",
   "metadata": {},
   "outputs": [
    {
     "name": "stdout",
     "output_type": "stream",
     "text": [
      "[[1 2 3 4 5]]\n",
      "3\n",
      "(1, 5)\n",
      "int64\n",
      "45\n"
     ]
    }
   ],
   "source": [
    "myarr = np.array([[1,2,3,4,5]])\n",
    "print(myarr)\n",
    "print(myarr[0][2])\n",
    "print(myarr.shape)\n",
    "print(myarr.dtype)\n",
    "myarr[0][2] = 45\n",
    "print(myarr[0][2])"
   ]
  },
  {
   "cell_type": "markdown",
   "id": "9edefb30",
   "metadata": {},
   "source": [
    "array creation : conversion from other python sturctures  "
   ]
  },
  {
   "cell_type": "code",
   "execution_count": 46,
   "id": "785da20c",
   "metadata": {},
   "outputs": [
    {
     "name": "stdout",
     "output_type": "stream",
     "text": [
      "[[1 2 3]\n",
      " [4 5 6]\n",
      " [7 8 9]]\n",
      "(3, 3)\n",
      "int64\n"
     ]
    }
   ],
   "source": [
    "listarray = np.array([[1,2,3],[4,5,6],[7,8,9]])\n",
    "print(listarray)\n",
    "print(listarray.shape)\n",
    "print(listarray.dtype)"
   ]
  },
  {
   "cell_type": "code",
   "execution_count": 47,
   "id": "5ae4fce6",
   "metadata": {},
   "outputs": [
    {
     "name": "stdout",
     "output_type": "stream",
     "text": [
      "[[0. 0. 0. 0. 0.]\n",
      " [0. 0. 0. 0. 0.]]\n",
      "float64\n"
     ]
    }
   ],
   "source": [
    "newarr = np.zeros((2,5))\n",
    "print(newarr)\n",
    "print(newarr.dtype)"
   ]
  },
  {
   "cell_type": "code",
   "execution_count": 48,
   "id": "dd14e2c3",
   "metadata": {},
   "outputs": [
    {
     "name": "stdout",
     "output_type": "stream",
     "text": [
      "[10 11 12 13 14 15 16 17 18 19]\n"
     ]
    }
   ],
   "source": [
    "rng = np.arange(10,20)\n",
    "print(rng)"
   ]
  },
  {
   "cell_type": "code",
   "execution_count": 49,
   "id": "9bfcc0be",
   "metadata": {},
   "outputs": [
    {
     "name": "stdout",
     "output_type": "stream",
     "text": [
      "[1. 2. 3. 4. 5.]\n"
     ]
    }
   ],
   "source": [
    "ls = np.linspace(1,5,5)\n",
    "print(ls)"
   ]
  },
  {
   "cell_type": "code",
   "execution_count": 50,
   "id": "8a689ebe",
   "metadata": {},
   "outputs": [
    {
     "name": "stdout",
     "output_type": "stream",
     "text": [
      "[[0. 0. 0. 0.]\n",
      " [0. 0. 0. 0.]]\n"
     ]
    }
   ],
   "source": [
    "emp = np.empty((2,4))\n",
    "print(emp)"
   ]
  },
  {
   "cell_type": "code",
   "execution_count": 51,
   "id": "b9ca7d3a",
   "metadata": {},
   "outputs": [
    {
     "name": "stdout",
     "output_type": "stream",
     "text": [
      "[1. 2. 3. 4. 5.]\n"
     ]
    }
   ],
   "source": [
    "emp_like = np.empty_like(ls)\n",
    "print(emp_like)"
   ]
  },
  {
   "cell_type": "code",
   "execution_count": 52,
   "id": "f38d1501",
   "metadata": {},
   "outputs": [
    {
     "name": "stdout",
     "output_type": "stream",
     "text": [
      "[[1. 0. 0.]\n",
      " [0. 1. 0.]\n",
      " [0. 0. 1.]]\n"
     ]
    }
   ],
   "source": [
    "arr = np.identity(3)\n",
    "print(arr)"
   ]
  },
  {
   "cell_type": "markdown",
   "id": "fc2ec73e",
   "metadata": {},
   "source": [
    "array reshaping"
   ]
  },
  {
   "cell_type": "code",
   "execution_count": null,
   "id": "fe546e31",
   "metadata": {},
   "outputs": [],
   "source": []
  },
  {
   "cell_type": "code",
   "execution_count": 53,
   "id": "1e4660b8",
   "metadata": {},
   "outputs": [
    {
     "name": "stdout",
     "output_type": "stream",
     "text": [
      "[ 0  1  2  3  4  5  6  7  8  9 10 11 12 13 14 15 16 17 18 19 20 21 22 23\n",
      " 24 25 26 27 28 29 30 31 32 33 34 35 36 37 38 39 40 41 42 43 44 45 46 47\n",
      " 48 49 50 51 52 53 54 55 56 57 58 59 60 61 62 63 64 65 66 67 68 69 70 71\n",
      " 72 73 74 75 76 77 78 79 80 81 82 83 84 85 86 87 88 89 90 91 92 93 94 95\n",
      " 96 97 98]\n"
     ]
    }
   ],
   "source": [
    "arr = np.arange(99)\n",
    "print(arr)\n",
    "arr = arr.reshape(3,33)\n",
    "\n"
   ]
  },
  {
   "cell_type": "code",
   "execution_count": 54,
   "id": "8459bd66",
   "metadata": {},
   "outputs": [
    {
     "name": "stdout",
     "output_type": "stream",
     "text": [
      "[[ 0  1  2  3  4  5  6  7  8  9 10 11 12 13 14 15 16 17 18 19 20 21 22 23\n",
      "  24 25 26 27 28 29 30 31 32]\n",
      " [33 34 35 36 37 38 39 40 41 42 43 44 45 46 47 48 49 50 51 52 53 54 55 56\n",
      "  57 58 59 60 61 62 63 64 65]\n",
      " [66 67 68 69 70 71 72 73 74 75 76 77 78 79 80 81 82 83 84 85 86 87 88 89\n",
      "  90 91 92 93 94 95 96 97 98]]\n"
     ]
    },
    {
     "data": {
      "text/plain": [
       "array([ 0,  1,  2,  3,  4,  5,  6,  7,  8,  9, 10, 11, 12, 13, 14, 15, 16,\n",
       "       17, 18, 19, 20, 21, 22, 23, 24, 25, 26, 27, 28, 29, 30, 31, 32, 33,\n",
       "       34, 35, 36, 37, 38, 39, 40, 41, 42, 43, 44, 45, 46, 47, 48, 49, 50,\n",
       "       51, 52, 53, 54, 55, 56, 57, 58, 59, 60, 61, 62, 63, 64, 65, 66, 67,\n",
       "       68, 69, 70, 71, 72, 73, 74, 75, 76, 77, 78, 79, 80, 81, 82, 83, 84,\n",
       "       85, 86, 87, 88, 89, 90, 91, 92, 93, 94, 95, 96, 97, 98])"
      ]
     },
     "execution_count": 54,
     "metadata": {},
     "output_type": "execute_result"
    }
   ],
   "source": [
    "print(arr)\n",
    "arr.ravel()"
   ]
  },
  {
   "cell_type": "markdown",
   "id": "8143672d",
   "metadata": {},
   "source": [
    "axis tutorial"
   ]
  },
  {
   "cell_type": "code",
   "execution_count": 55,
   "id": "acac3c8b",
   "metadata": {},
   "outputs": [
    {
     "name": "stdout",
     "output_type": "stream",
     "text": [
      "[[1 2 3]\n",
      " [4 5 6]\n",
      " [7 8 9]]\n",
      "sum around axis is  -\n",
      "[12 15 18]\n",
      "[ 6 15 24]\n"
     ]
    }
   ],
   "source": [
    "arrr = [[1,2,3],[4,5,6],[7,8,9]]\n",
    "arrr = np.array(arrr)\n",
    "print(arrr)\n",
    "print(\"sum around axis is  -\")\n",
    "print(arrr.sum(axis=0))\n",
    "print(arrr.sum(axis=1))"
   ]
  },
  {
   "cell_type": "markdown",
   "id": "77b4ae8c",
   "metadata": {},
   "source": [
    "ATTRIBUTE AND METHODS"
   ]
  },
  {
   "cell_type": "code",
   "execution_count": 58,
   "id": "458301e5",
   "metadata": {},
   "outputs": [
    {
     "data": {
      "text/plain": [
       "array([[1, 4, 7],\n",
       "       [2, 5, 8],\n",
       "       [3, 6, 9]])"
      ]
     },
     "execution_count": 58,
     "metadata": {},
     "output_type": "execute_result"
    }
   ],
   "source": [
    "arrr.T"
   ]
  },
  {
   "cell_type": "code",
   "execution_count": 60,
   "id": "3171ba6d",
   "metadata": {},
   "outputs": [
    {
     "name": "stdout",
     "output_type": "stream",
     "text": [
      "1\n",
      "2\n",
      "3\n",
      "4\n",
      "5\n",
      "6\n",
      "7\n",
      "8\n",
      "9\n"
     ]
    }
   ],
   "source": [
    "omfo = arrr.flat\n",
    "for items in omfo:\n",
    "    print(items)\n"
   ]
  },
  {
   "cell_type": "code",
   "execution_count": 62,
   "id": "450dc9c8",
   "metadata": {},
   "outputs": [
    {
     "data": {
      "text/plain": [
       "2"
      ]
     },
     "execution_count": 62,
     "metadata": {},
     "output_type": "execute_result"
    }
   ],
   "source": [
    "arrr.ndim"
   ]
  },
  {
   "cell_type": "code",
   "execution_count": 63,
   "id": "3317c8cd",
   "metadata": {},
   "outputs": [
    {
     "data": {
      "text/plain": [
       "9"
      ]
     },
     "execution_count": 63,
     "metadata": {},
     "output_type": "execute_result"
    }
   ],
   "source": [
    "arrr.size"
   ]
  },
  {
   "cell_type": "code",
   "execution_count": 64,
   "id": "3720f815",
   "metadata": {},
   "outputs": [
    {
     "data": {
      "text/plain": [
       "72"
      ]
     },
     "execution_count": 64,
     "metadata": {},
     "output_type": "execute_result"
    }
   ],
   "source": [
    "arrr.nbytes"
   ]
  },
  {
   "cell_type": "code",
   "execution_count": 70,
   "id": "d17bc36b",
   "metadata": {},
   "outputs": [
    {
     "name": "stdout",
     "output_type": "stream",
     "text": [
      "8\n",
      "[2 2 2]\n",
      "0\n",
      "[0 0 0]\n",
      "sorted array is  : -\n",
      "[[0 1 2]\n",
      " [0 1 2]\n",
      " [0 1 2]]\n"
     ]
    }
   ],
   "source": [
    "print(arrr.argmax())\n",
    "print(arrr.argmax(axis=0))\n",
    "print(arrr.argmin())\n",
    "print(arrr.argmin(axis=1))\n",
    "print(\"sorted array is  : -\")\n",
    "print(arrr.argsort())"
   ]
  },
  {
   "cell_type": "markdown",
   "id": "d7fdb868",
   "metadata": {},
   "source": [
    "MATHEMATICAL OPERATIONS"
   ]
  },
  {
   "cell_type": "code",
   "execution_count": 74,
   "id": "cb77f9fc",
   "metadata": {},
   "outputs": [],
   "source": [
    "ar1 = np.array([[1,2,3],[1,2,3],[1,2,3]])\n",
    "ar2 = np.array([[1,2,3],[4,5,6],[7,8,9]])"
   ]
  },
  {
   "cell_type": "code",
   "execution_count": 77,
   "id": "ef6ee4ec",
   "metadata": {},
   "outputs": [
    {
     "name": "stdout",
     "output_type": "stream",
     "text": [
      "addition :-\n",
      "[[ 2  4  6]\n",
      " [ 5  7  9]\n",
      " [ 8 10 12]]\n",
      "multiplication :-\n",
      "[[ 1  4  9]\n",
      " [ 4 10 18]\n",
      " [ 7 16 27]]\n",
      "these operation can be done addition, subtraction, multiplication, division, exponentiation, modulus\n"
     ]
    }
   ],
   "source": [
    "print(\"addition :-\")\n",
    "print(ar1+ar2)\n",
    "print(\"multiplication :-\")\n",
    "print(ar1*ar2)\n",
    "print(\"these operation can be done addition, subtraction, multiplication, division, exponentiation, modulus\")"
   ]
  },
  {
   "cell_type": "code",
   "execution_count": 81,
   "id": "4b848366",
   "metadata": {},
   "outputs": [
    {
     "name": "stdout",
     "output_type": "stream",
     "text": [
      "[[1.         1.41421356 1.73205081]\n",
      " [1.         1.41421356 1.73205081]\n",
      " [1.         1.41421356 1.73205081]]\n"
     ]
    }
   ],
   "source": [
    "print(np.sqrt(ar1))"
   ]
  },
  {
   "cell_type": "code",
   "execution_count": null,
   "id": "f9689756",
   "metadata": {},
   "outputs": [
    {
     "name": "stdout",
     "output_type": "stream",
     "text": [
      "18\n",
      "3\n",
      "1\n",
      "(array([1, 2, 2, 2]), array([2, 0, 1, 2]))\n",
      "9\n",
      "(array([0, 0, 0, 1, 1, 1, 2, 2, 2]), array([0, 1, 2, 0, 1, 2, 0, 1, 2]))\n"
     ]
    }
   ],
   "source": [
    "print(ar1.sum())\n",
    "print(ar1.max())\n",
    "print(ar1.min())\n",
    "print(np.where(ar2>5))\n",
    "print(np.count_nonzero(ar1)) #no where 0 is not \n",
    "print(np.nonzero((ar1))) #gives coordinates where 0 is not "
   ]
  }
 ],
 "metadata": {
  "kernelspec": {
   "display_name": "Python 3",
   "language": "python",
   "name": "python3"
  },
  "language_info": {
   "codemirror_mode": {
    "name": "ipython",
    "version": 3
   },
   "file_extension": ".py",
   "mimetype": "text/x-python",
   "name": "python",
   "nbconvert_exporter": "python",
   "pygments_lexer": "ipython3",
   "version": "3.12.3"
  }
 },
 "nbformat": 4,
 "nbformat_minor": 5
}
