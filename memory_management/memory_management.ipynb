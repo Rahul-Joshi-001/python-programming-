{
 "cells": [
  {
   "cell_type": "markdown",
   "id": "80f9870a",
   "metadata": {},
   "source": [
    "# Reference Counting"
   ]
  },
  {
   "cell_type": "markdown",
   "id": "41438858",
   "metadata": {},
   "source": [
    "Refernce counting is the primary method python uses to manage memeory.Each object in python maintain a count pointing to it.When the refernece count drop to zero, the memory occupied by the object is deallocated"
   ]
  },
  {
   "cell_type": "code",
   "execution_count": null,
   "id": "9071e01f",
   "metadata": {},
   "outputs": [],
   "source": [
    "#reference count\n",
    "import sys"
   ]
  },
  {
   "cell_type": "code",
   "execution_count": null,
   "id": "230153bb",
   "metadata": {},
   "outputs": [
    {
     "name": "stdout",
     "output_type": "stream",
     "text": [
      "2\n"
     ]
    }
   ],
   "source": [
    "a = []\n",
    "print(sys.getrefcount(a))\n",
    "## 2(one refernec from 'a' and one from getrefrom())\n"
   ]
  },
  {
   "cell_type": "code",
   "execution_count": 4,
   "id": "e71fe630",
   "metadata": {},
   "outputs": [
    {
     "name": "stdout",
     "output_type": "stream",
     "text": [
      "3\n"
     ]
    }
   ],
   "source": [
    "b = a\n",
    "print(sys.getrefcount(b))"
   ]
  },
  {
   "cell_type": "markdown",
   "id": "013edc5b",
   "metadata": {},
   "source": [
    "#### Garbage collection\n",
    "Python inculdes a cyclic garbage collection to handle refernece cycle. Refernece cycles occur when objects refernece each other,preventing their refernece counts from reaching zero."
   ]
  },
  {
   "cell_type": "code",
   "execution_count": 5,
   "id": "df4209cb",
   "metadata": {},
   "outputs": [],
   "source": [
    "import gc"
   ]
  },
  {
   "cell_type": "code",
   "execution_count": 6,
   "id": "51ec0423",
   "metadata": {},
   "outputs": [],
   "source": [
    "gc.enable()"
   ]
  },
  {
   "cell_type": "code",
   "execution_count": 7,
   "id": "c9249706",
   "metadata": {},
   "outputs": [
    {
     "data": {
      "text/plain": [
       "569"
      ]
     },
     "execution_count": 7,
     "metadata": {},
     "output_type": "execute_result"
    }
   ],
   "source": [
    "##to manually want \n",
    "gc.collect()"
   ]
  },
  {
   "cell_type": "code",
   "execution_count": 8,
   "id": "ea778b49",
   "metadata": {},
   "outputs": [
    {
     "name": "stdout",
     "output_type": "stream",
     "text": [
      "[{'collections': 189, 'collected': 1501, 'uncollectable': 0}, {'collections': 17, 'collected': 371, 'uncollectable': 0}, {'collections': 2, 'collected': 569, 'uncollectable': 0}]\n"
     ]
    }
   ],
   "source": [
    "##get garbage colleciton statiscs\n",
    "print(gc.get_stats())"
   ]
  },
  {
   "cell_type": "code",
   "execution_count": 9,
   "id": "5dcc4095",
   "metadata": {},
   "outputs": [
    {
     "name": "stdout",
     "output_type": "stream",
     "text": [
      "[]\n"
     ]
    }
   ],
   "source": [
    "## unreachable objects\n",
    "print(gc.garbage)"
   ]
  },
  {
   "cell_type": "code",
   "execution_count": null,
   "id": "6a49bea8",
   "metadata": {},
   "outputs": [
    {
     "name": "stdout",
     "output_type": "stream",
     "text": [
      "object obj1 is created\n",
      "object obj2 is created\n",
      "object obj1 is delted\n",
      "object obj2 is delted\n"
     ]
    },
    {
     "data": {
      "text/plain": [
       "9"
      ]
     },
     "execution_count": 22,
     "metadata": {},
     "output_type": "execute_result"
    }
   ],
   "source": [
    "import gc\n",
    "\n",
    "class Myobject:\n",
    "    def __init__(self,name):\n",
    "        self.name = name\n",
    "        print(f\"object {self.name} is created\")\n",
    "\n",
    "    def __del__(self):\n",
    "        print(f\"object {self.name} is delted\")\n",
    "\n",
    "#create circular reference\n",
    "obj1  = Myobject(\"obj1\")\n",
    "obj2  = Myobject(\"obj2\")\n",
    "        \n",
    "obj1.ref = obj2\n",
    "obj2.ref= obj1\n",
    "\n",
    "del obj1\n",
    "del obj2\n",
    "\n",
    "#manually trigger the garbage collection\n",
    "gc.collect()"
   ]
  },
  {
   "cell_type": "code",
   "execution_count": 23,
   "id": "abb1eed0",
   "metadata": {},
   "outputs": [
    {
     "name": "stdout",
     "output_type": "stream",
     "text": [
      "0\n",
      "1\n",
      "2\n",
      "3\n",
      "4\n",
      "5\n",
      "6\n",
      "7\n",
      "8\n",
      "9\n",
      "10\n",
      "11\n"
     ]
    }
   ],
   "source": [
    "#generators for memory efficient\n",
    "def gen_no(n):\n",
    "    for i in range(n):\n",
    "        yield i\n",
    "\n",
    "#using the generator\n",
    "for num in gen_no(100000):\n",
    "    print(num)\n",
    "    if(num>10):\n",
    "        break;"
   ]
  },
  {
   "cell_type": "code",
   "execution_count": 25,
   "id": "e9e9cdbe",
   "metadata": {},
   "outputs": [],
   "source": [
    "## Profiling Memeory usage with tracemalloc\n",
    "import tracemalloc\n",
    "\n",
    "def create_list():\n",
    "    return [i for i in range(10000)]\n",
    "\n",
    "def main():\n",
    "    tracemalloc.start()\n",
    "    \n",
    "    create_list()\n",
    "    \n",
    "    snapshot=tracemalloc.take_snapshot()\n",
    "    top_stats=snapshot.statistics('lineno')\n",
    "    \n",
    "    print(\"[top 10]\")\n",
    "    for stat in top_stats[:10]:\n",
    "        print(stat)"
   ]
  },
  {
   "cell_type": "code",
   "execution_count": 26,
   "id": "8bc59312",
   "metadata": {},
   "outputs": [
    {
     "name": "stdout",
     "output_type": "stream",
     "text": [
      "[top 10]\n",
      "c:\\Users\\RAHUL JOSHI\\AppData\\Local\\Programs\\Python\\Python312\\Lib\\site-packages\\tornado\\queues.py:248: size=144 B, count=1, average=144 B\n",
      "c:\\Users\\RAHUL JOSHI\\AppData\\Local\\Programs\\Python\\Python312\\Lib\\asyncio\\events.py:88: size=72 B, count=1, average=72 B\n"
     ]
    }
   ],
   "source": [
    "main()"
   ]
  },
  {
   "cell_type": "code",
   "execution_count": null,
   "id": "8132818c",
   "metadata": {},
   "outputs": [],
   "source": []
  }
 ],
 "metadata": {
  "kernelspec": {
   "display_name": "Python 3",
   "language": "python",
   "name": "python3"
  },
  "language_info": {
   "codemirror_mode": {
    "name": "ipython",
    "version": 3
   },
   "file_extension": ".py",
   "mimetype": "text/x-python",
   "name": "python",
   "nbconvert_exporter": "python",
   "pygments_lexer": "ipython3",
   "version": "3.12.3"
  }
 },
 "nbformat": 4,
 "nbformat_minor": 5
}
