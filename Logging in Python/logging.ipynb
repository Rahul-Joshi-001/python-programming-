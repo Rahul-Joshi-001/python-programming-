{
 "cells": [
  {
   "cell_type": "markdown",
   "id": "942b0c9b",
   "metadata": {},
   "source": [
    "Python Logging "
   ]
  },
  {
   "cell_type": "markdown",
   "id": "004315f5",
   "metadata": {},
   "source": [
    "Logging is the crucial aspect of any apllication,providing a way to track events,error,and operational information.Python's bulit in logging module offers a flexible framework for emitting log message,from Python program."
   ]
  },
  {
   "cell_type": "code",
   "execution_count": 1,
   "id": "f92ddd9e",
   "metadata": {},
   "outputs": [],
   "source": [
    "import logging"
   ]
  },
  {
   "cell_type": "code",
   "execution_count": 4,
   "id": "d945b838",
   "metadata": {},
   "outputs": [
    {
     "name": "stderr",
     "output_type": "stream",
     "text": [
      "DEBUG:root:this is a debug message\n",
      "INFO:root:this is a info messagge\n",
      "WARNING:root:this is a warnign message\n",
      "ERROR:root:this is an error message\n",
      "CRITICAL:root:this is a critical  message\n"
     ]
    }
   ],
   "source": [
    "##configure the basic logging setting\n",
    "logging.basicConfig(level=logging.DEBUG)\n",
    "\n",
    "#log messages\n",
    "logging.debug(\"this is a debug message\")\n",
    "logging.info(\"this is a info messagge\")\n",
    "logging.warning(\"this is a warnign message\")\n",
    "logging.error(\"this is an error message\")\n",
    "logging.critical(\"this is a critical  message\")"
   ]
  },
  {
   "cell_type": "code",
   "execution_count": 2,
   "id": "a675e50f",
   "metadata": {},
   "outputs": [],
   "source": [
    "# Configuring logging\n",
    "logging.basicConfig(\n",
    "    filename='app.log',\n",
    "    filemode='w',\n",
    "    level=logging.DEBUG,\n",
    "    format='%(asctime)s - %(name)s - %(levelname)s - %(message)s',\n",
    "    datefmt='%Y-%m-%d %H:%M:%S'\n",
    ")\n",
    "\n",
    "logging.debug(\"this is a debug message\")\n",
    "logging.info(\"this is a info messagge\")\n",
    "logging.warning(\"this is a warnign message\")\n",
    "logging.error(\"this is an error message\")\n",
    "logging.critical(\"this is a critical  message\")\n"
   ]
  },
  {
   "cell_type": "code",
   "execution_count": 1,
   "id": "846b0255",
   "metadata": {},
   "outputs": [],
   "source": [
    "import logging\n",
    "\n",
    "# Set up basic configuration\n",
    "logging.basicConfig(\n",
    "    filename='app.log',    # Log file name\n",
    "    filemode='a',           # Append mode (use 'w' to overwrite every time)\n",
    "    format='%(asctime)s - %(levelname)s - %(message)s',  # Log format\n",
    "    level=logging.INFO      # Minimum level to capture (INFO and above)\n",
    ")\n",
    "\n",
    "# Example log messages\n",
    "logging.info('This is an info message.')\n",
    "logging.warning('This is a warning message.')\n",
    "logging.error('This is an error message.')\n"
   ]
  },
  {
   "cell_type": "code",
   "execution_count": null,
   "id": "b338142c",
   "metadata": {},
   "outputs": [],
   "source": []
  }
 ],
 "metadata": {
  "kernelspec": {
   "display_name": "Python 3",
   "language": "python",
   "name": "python3"
  },
  "language_info": {
   "codemirror_mode": {
    "name": "ipython",
    "version": 3
   },
   "file_extension": ".py",
   "mimetype": "text/x-python",
   "name": "python",
   "nbconvert_exporter": "python",
   "pygments_lexer": "ipython3",
   "version": "3.12.3"
  }
 },
 "nbformat": 4,
 "nbformat_minor": 5
}
