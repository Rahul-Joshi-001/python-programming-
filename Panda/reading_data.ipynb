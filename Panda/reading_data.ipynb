{
 "cells": [
  {
   "cell_type": "markdown",
   "id": "165dce75",
   "metadata": {},
   "source": [
    "reading data from different sources"
   ]
  },
  {
   "cell_type": "code",
   "execution_count": 3,
   "id": "c320e424",
   "metadata": {},
   "outputs": [],
   "source": [
    "import pandas as pd;\n",
    "from io import StringIO\n"
   ]
  },
  {
   "cell_type": "code",
   "execution_count": 6,
   "id": "e6d0404b",
   "metadata": {},
   "outputs": [],
   "source": [
    "data = '{\"employee_name\":\"james\",\"email\":\"james@gmail.com\",\"titles\":[{\"title1\":\"team lead\",\"title2\":\"sr. developer\"}]}'\n",
    "df = pd.read_json(StringIO(data))"
   ]
  },
  {
   "cell_type": "code",
   "execution_count": 8,
   "id": "08b91fd6",
   "metadata": {},
   "outputs": [
    {
     "data": {
      "text/plain": [
       "'{\"employee_name\":{\"0\":\"james\"},\"email\":{\"0\":\"james@gmail.com\"},\"titles\":{\"0\":{\"title1\":\"team lead\",\"title2\":\"sr. developer\"}}}'"
      ]
     },
     "execution_count": 8,
     "metadata": {},
     "output_type": "execute_result"
    }
   ],
   "source": [
    "df.to_json()"
   ]
  },
  {
   "cell_type": "code",
   "execution_count": 9,
   "id": "980a1e1d",
   "metadata": {},
   "outputs": [
    {
     "data": {
      "text/plain": [
       "'{\"0\":{\"employee_name\":\"james\",\"email\":\"james@gmail.com\",\"titles\":{\"title1\":\"team lead\",\"title2\":\"sr. developer\"}}}'"
      ]
     },
     "execution_count": 9,
     "metadata": {},
     "output_type": "execute_result"
    }
   ],
   "source": [
    "df.to_json(orient='index')"
   ]
  },
  {
   "cell_type": "code",
   "execution_count": 11,
   "id": "7bfd8e84",
   "metadata": {},
   "outputs": [
    {
     "data": {
      "text/plain": [
       "'[{\"employee_name\":\"james\",\"email\":\"james@gmail.com\",\"titles\":{\"title1\":\"team lead\",\"title2\":\"sr. developer\"}}]'"
      ]
     },
     "execution_count": 11,
     "metadata": {},
     "output_type": "execute_result"
    }
   ],
   "source": [
    "df.to_json(orient='records')"
   ]
  },
  {
   "cell_type": "code",
   "execution_count": null,
   "id": "e2024736",
   "metadata": {},
   "outputs": [],
   "source": []
  }
 ],
 "metadata": {
  "kernelspec": {
   "display_name": "Python 3",
   "language": "python",
   "name": "python3"
  },
  "language_info": {
   "codemirror_mode": {
    "name": "ipython",
    "version": 3
   },
   "file_extension": ".py",
   "mimetype": "text/x-python",
   "name": "python",
   "nbconvert_exporter": "python",
   "pygments_lexer": "ipython3",
   "version": "3.12.3"
  }
 },
 "nbformat": 4,
 "nbformat_minor": 5
}
