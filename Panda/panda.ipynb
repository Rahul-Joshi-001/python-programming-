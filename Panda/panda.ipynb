{
 "cells": [
  {
   "cell_type": "markdown",
   "id": "3c9c6500",
   "metadata": {},
   "source": [
    "Panda\n"
   ]
  },
  {
   "cell_type": "code",
   "execution_count": 55,
   "id": "7479d298",
   "metadata": {},
   "outputs": [],
   "source": [
    "import pandas as pd\n",
    "import numpy as np"
   ]
  },
  {
   "cell_type": "code",
   "execution_count": 56,
   "id": "f3e123e9",
   "metadata": {},
   "outputs": [
    {
     "name": "stdout",
     "output_type": "stream",
     "text": [
      "series :- \n",
      " 0    1\n",
      "1    2\n",
      "2    3\n",
      "3    4\n",
      "4    5\n",
      "dtype: int64\n"
     ]
    }
   ],
   "source": [
    "#series - one dimenational\n",
    "data = [1,2,3,4,5]\n",
    "series = pd.Series(data)\n",
    "print(\"series :- \\n\",series)\n"
   ]
  },
  {
   "cell_type": "code",
   "execution_count": 57,
   "id": "34acdc65",
   "metadata": {},
   "outputs": [
    {
     "name": "stdout",
     "output_type": "stream",
     "text": [
      "a    1\n",
      "b    2\n",
      "c    3\n",
      "dtype: int64\n"
     ]
    }
   ],
   "source": [
    "#create a series from dictionary: \n",
    "dict = {'a':1,'b':2,'c':3}\n",
    "series = pd.Series(dict)\n",
    "print(series)"
   ]
  },
  {
   "cell_type": "code",
   "execution_count": 58,
   "id": "7ad534bc",
   "metadata": {},
   "outputs": [
    {
     "name": "stdout",
     "output_type": "stream",
     "text": [
      "a    10\n",
      "b    20\n",
      "c    30\n",
      "dtype: int64\n"
     ]
    }
   ],
   "source": [
    "data = [10,20,30]\n",
    "index =['a','b','c']\n",
    "data = pd.Series(data,index=index);\n",
    "print(data)"
   ]
  },
  {
   "cell_type": "code",
   "execution_count": 59,
   "id": "b9472bde",
   "metadata": {},
   "outputs": [
    {
     "name": "stdout",
     "output_type": "stream",
     "text": [
      "    Name  age   city\n",
      "0  krish   25     uk\n",
      "1   john   39  delhi\n",
      "2   jack   10    rcb\n"
     ]
    }
   ],
   "source": [
    "#dataframe = two dimentional \n",
    "data = {\n",
    "    'Name' : ['krish','john','jack'],\n",
    "    'age' : [25,39,10],\n",
    "    'city' : [\"uk\",'delhi','rcb']\n",
    "}\n",
    "df = pd.DataFrame(data)\n",
    "print(df)\n"
   ]
  },
  {
   "cell_type": "code",
   "execution_count": 60,
   "id": "39bd9682",
   "metadata": {},
   "outputs": [
    {
     "name": "stdout",
     "output_type": "stream",
     "text": [
      "    Name  age      city\n",
      "0  krish   36  dehradun\n",
      "1  rahul   32  banglore\n",
      "2  mohan   39        uk\n"
     ]
    }
   ],
   "source": [
    "data = [\n",
    "    {'Name':'krish','age': 36,'city':'dehradun'},\n",
    "    {'Name':'rahul','age': 32,'city':'banglore'},\n",
    "    {'Name':'mohan','age': 39,'city':'uk'},\n",
    "]\n",
    "df = pd.DataFrame(data)\n",
    "print(df)"
   ]
  },
  {
   "cell_type": "code",
   "execution_count": 61,
   "id": "20fe2299",
   "metadata": {},
   "outputs": [
    {
     "data": {
      "text/html": [
       "<div>\n",
       "<style scoped>\n",
       "    .dataframe tbody tr th:only-of-type {\n",
       "        vertical-align: middle;\n",
       "    }\n",
       "\n",
       "    .dataframe tbody tr th {\n",
       "        vertical-align: top;\n",
       "    }\n",
       "\n",
       "    .dataframe thead th {\n",
       "        text-align: right;\n",
       "    }\n",
       "</style>\n",
       "<table border=\"1\" class=\"dataframe\">\n",
       "  <thead>\n",
       "    <tr style=\"text-align: right;\">\n",
       "      <th></th>\n",
       "      <th>Index</th>\n",
       "      <th>Customer Id</th>\n",
       "      <th>First Name</th>\n",
       "      <th>Last Name</th>\n",
       "      <th>Company</th>\n",
       "      <th>City</th>\n",
       "      <th>Country</th>\n",
       "      <th>Phone 1</th>\n",
       "      <th>Phone 2</th>\n",
       "      <th>Email</th>\n",
       "      <th>Subscription Date</th>\n",
       "      <th>Website</th>\n",
       "    </tr>\n",
       "  </thead>\n",
       "  <tbody>\n",
       "    <tr>\n",
       "      <th>0</th>\n",
       "      <td>1</td>\n",
       "      <td>DD37Cf93aecA6Dc</td>\n",
       "      <td>Sheryl</td>\n",
       "      <td>Baxter</td>\n",
       "      <td>Rasmussen Group</td>\n",
       "      <td>East Leonard</td>\n",
       "      <td>Chile</td>\n",
       "      <td>229.077.5154</td>\n",
       "      <td>397.884.0519x718</td>\n",
       "      <td>zunigavanessa@smith.info</td>\n",
       "      <td>8/24/2020</td>\n",
       "      <td>http://www.stephenson.com/</td>\n",
       "    </tr>\n",
       "    <tr>\n",
       "      <th>1</th>\n",
       "      <td>2</td>\n",
       "      <td>1Ef7b82A4CAAD10</td>\n",
       "      <td>Preston</td>\n",
       "      <td>Lozano</td>\n",
       "      <td>Vega-Gentry</td>\n",
       "      <td>East Jimmychester</td>\n",
       "      <td>Djibouti</td>\n",
       "      <td>5153435776</td>\n",
       "      <td>686-620-1820x944</td>\n",
       "      <td>vmata@colon.com</td>\n",
       "      <td>4/23/2021</td>\n",
       "      <td>http://www.hobbs.com/</td>\n",
       "    </tr>\n",
       "    <tr>\n",
       "      <th>2</th>\n",
       "      <td>3</td>\n",
       "      <td>6F94879bDAfE5a6</td>\n",
       "      <td>Roy</td>\n",
       "      <td>Berry</td>\n",
       "      <td>Murillo-Perry</td>\n",
       "      <td>Isabelborough</td>\n",
       "      <td>Antigua and Barbuda</td>\n",
       "      <td>-1199</td>\n",
       "      <td>(496)978-3969x58947</td>\n",
       "      <td>beckycarr@hogan.com</td>\n",
       "      <td>3/25/2020</td>\n",
       "      <td>http://www.lawrence.com/</td>\n",
       "    </tr>\n",
       "    <tr>\n",
       "      <th>3</th>\n",
       "      <td>4</td>\n",
       "      <td>5Cef8BFA16c5e3c</td>\n",
       "      <td>Linda</td>\n",
       "      <td>Olsen</td>\n",
       "      <td>Dominguez, Mcmillan and Donovan</td>\n",
       "      <td>Bensonview</td>\n",
       "      <td>Dominican Republic</td>\n",
       "      <td>001-808-617-6467x12895</td>\n",
       "      <td>-9892</td>\n",
       "      <td>stanleyblackwell@benson.org</td>\n",
       "      <td>6/2/2020</td>\n",
       "      <td>http://www.good-lyons.com/</td>\n",
       "    </tr>\n",
       "    <tr>\n",
       "      <th>4</th>\n",
       "      <td>5</td>\n",
       "      <td>053d585Ab6b3159</td>\n",
       "      <td>Joanna</td>\n",
       "      <td>Bender</td>\n",
       "      <td>Martin, Lang and Andrade</td>\n",
       "      <td>West Priscilla</td>\n",
       "      <td>Slovakia (Slovak Republic)</td>\n",
       "      <td>001-234-203-0635x76146</td>\n",
       "      <td>001-199-446-3860x3486</td>\n",
       "      <td>colinalvarado@miles.net</td>\n",
       "      <td>4/17/2021</td>\n",
       "      <td>https://goodwin-ingram.com/</td>\n",
       "    </tr>\n",
       "  </tbody>\n",
       "</table>\n",
       "</div>"
      ],
      "text/plain": [
       "   Index      Customer Id First Name Last Name  \\\n",
       "0      1  DD37Cf93aecA6Dc     Sheryl    Baxter   \n",
       "1      2  1Ef7b82A4CAAD10    Preston    Lozano   \n",
       "2      3  6F94879bDAfE5a6        Roy     Berry   \n",
       "3      4  5Cef8BFA16c5e3c      Linda     Olsen   \n",
       "4      5  053d585Ab6b3159     Joanna    Bender   \n",
       "\n",
       "                           Company               City  \\\n",
       "0                  Rasmussen Group       East Leonard   \n",
       "1                      Vega-Gentry  East Jimmychester   \n",
       "2                    Murillo-Perry      Isabelborough   \n",
       "3  Dominguez, Mcmillan and Donovan         Bensonview   \n",
       "4         Martin, Lang and Andrade     West Priscilla   \n",
       "\n",
       "                      Country                 Phone 1                Phone 2  \\\n",
       "0                       Chile            229.077.5154       397.884.0519x718   \n",
       "1                    Djibouti              5153435776       686-620-1820x944   \n",
       "2         Antigua and Barbuda                   -1199    (496)978-3969x58947   \n",
       "3          Dominican Republic  001-808-617-6467x12895                  -9892   \n",
       "4  Slovakia (Slovak Republic)  001-234-203-0635x76146  001-199-446-3860x3486   \n",
       "\n",
       "                         Email Subscription Date                      Website  \n",
       "0     zunigavanessa@smith.info         8/24/2020   http://www.stephenson.com/  \n",
       "1              vmata@colon.com         4/23/2021        http://www.hobbs.com/  \n",
       "2          beckycarr@hogan.com         3/25/2020     http://www.lawrence.com/  \n",
       "3  stanleyblackwell@benson.org          6/2/2020   http://www.good-lyons.com/  \n",
       "4      colinalvarado@miles.net         4/17/2021  https://goodwin-ingram.com/  "
      ]
     },
     "execution_count": 61,
     "metadata": {},
     "output_type": "execute_result"
    }
   ],
   "source": [
    "ndf = pd.read_csv('1.csv', quotechar='\"')\n",
    "ndf.head(5)\n"
   ]
  },
  {
   "cell_type": "code",
   "execution_count": 62,
   "id": "d324762c",
   "metadata": {},
   "outputs": [
    {
     "data": {
      "text/html": [
       "<div>\n",
       "<style scoped>\n",
       "    .dataframe tbody tr th:only-of-type {\n",
       "        vertical-align: middle;\n",
       "    }\n",
       "\n",
       "    .dataframe tbody tr th {\n",
       "        vertical-align: top;\n",
       "    }\n",
       "\n",
       "    .dataframe thead th {\n",
       "        text-align: right;\n",
       "    }\n",
       "</style>\n",
       "<table border=\"1\" class=\"dataframe\">\n",
       "  <thead>\n",
       "    <tr style=\"text-align: right;\">\n",
       "      <th></th>\n",
       "      <th>Index</th>\n",
       "      <th>Customer Id</th>\n",
       "      <th>First Name</th>\n",
       "      <th>Last Name</th>\n",
       "      <th>Company</th>\n",
       "      <th>City</th>\n",
       "      <th>Country</th>\n",
       "      <th>Phone 1</th>\n",
       "      <th>Phone 2</th>\n",
       "      <th>Email</th>\n",
       "      <th>Subscription Date</th>\n",
       "      <th>Website</th>\n",
       "    </tr>\n",
       "  </thead>\n",
       "  <tbody>\n",
       "    <tr>\n",
       "      <th>95</th>\n",
       "      <td>96</td>\n",
       "      <td>cb8E23e48d22Eae</td>\n",
       "      <td>Karl</td>\n",
       "      <td>Greer</td>\n",
       "      <td>Carey LLC</td>\n",
       "      <td>East Richard</td>\n",
       "      <td>Guyana</td>\n",
       "      <td>(188)169-1674x58692</td>\n",
       "      <td>001-841-293-3519x614</td>\n",
       "      <td>hhart@jensen.com</td>\n",
       "      <td>1/30/2022</td>\n",
       "      <td>http://hayes-perez.com/</td>\n",
       "    </tr>\n",
       "    <tr>\n",
       "      <th>96</th>\n",
       "      <td>97</td>\n",
       "      <td>CeD220bdAaCfaDf</td>\n",
       "      <td>Lynn</td>\n",
       "      <td>Atkinson</td>\n",
       "      <td>Ware, Burns and Oneal</td>\n",
       "      <td>New Bradview</td>\n",
       "      <td>Sri Lanka</td>\n",
       "      <td>-3769</td>\n",
       "      <td>605.413.3198</td>\n",
       "      <td>vkemp@ferrell.com</td>\n",
       "      <td>7/10/2021</td>\n",
       "      <td>https://novak-allison.com/</td>\n",
       "    </tr>\n",
       "    <tr>\n",
       "      <th>97</th>\n",
       "      <td>98</td>\n",
       "      <td>28CDbC0dFe4b1Db</td>\n",
       "      <td>Fred</td>\n",
       "      <td>Guerra</td>\n",
       "      <td>Schmitt-Jones</td>\n",
       "      <td>Ortegaland</td>\n",
       "      <td>Solomon Islands</td>\n",
       "      <td>+1-753-067-8419x7170</td>\n",
       "      <td>+1-632-666-7507x92121</td>\n",
       "      <td>swagner@kane.org</td>\n",
       "      <td>9/18/2021</td>\n",
       "      <td>https://www.ross.com/</td>\n",
       "    </tr>\n",
       "    <tr>\n",
       "      <th>98</th>\n",
       "      <td>99</td>\n",
       "      <td>c23d1D9EE8DEB0A</td>\n",
       "      <td>Yvonne</td>\n",
       "      <td>Farmer</td>\n",
       "      <td>Fitzgerald-Harrell</td>\n",
       "      <td>Lake Elijahview</td>\n",
       "      <td>Aruba</td>\n",
       "      <td>(530)311-9786</td>\n",
       "      <td>001-869-452-0943x12424</td>\n",
       "      <td>mccarthystephen@horn-green.biz</td>\n",
       "      <td>8/11/2021</td>\n",
       "      <td>http://watkins.info/</td>\n",
       "    </tr>\n",
       "    <tr>\n",
       "      <th>99</th>\n",
       "      <td>100</td>\n",
       "      <td>2354a0E336A91A1</td>\n",
       "      <td>Clarence</td>\n",
       "      <td>Haynes</td>\n",
       "      <td>Le, Nash and Cross</td>\n",
       "      <td>Judymouth</td>\n",
       "      <td>Honduras</td>\n",
       "      <td>(753)813-6941</td>\n",
       "      <td>783.639.1472</td>\n",
       "      <td>colleen91@faulkner.biz</td>\n",
       "      <td>3/11/2020</td>\n",
       "      <td>http://www.hatfield-saunders.net/</td>\n",
       "    </tr>\n",
       "  </tbody>\n",
       "</table>\n",
       "</div>"
      ],
      "text/plain": [
       "    Index      Customer Id First Name Last Name                Company  \\\n",
       "95     96  cb8E23e48d22Eae       Karl     Greer              Carey LLC   \n",
       "96     97  CeD220bdAaCfaDf       Lynn  Atkinson  Ware, Burns and Oneal   \n",
       "97     98  28CDbC0dFe4b1Db       Fred    Guerra          Schmitt-Jones   \n",
       "98     99  c23d1D9EE8DEB0A     Yvonne    Farmer     Fitzgerald-Harrell   \n",
       "99    100  2354a0E336A91A1   Clarence    Haynes     Le, Nash and Cross   \n",
       "\n",
       "               City          Country               Phone 1  \\\n",
       "95     East Richard           Guyana   (188)169-1674x58692   \n",
       "96     New Bradview        Sri Lanka                 -3769   \n",
       "97       Ortegaland  Solomon Islands  +1-753-067-8419x7170   \n",
       "98  Lake Elijahview            Aruba         (530)311-9786   \n",
       "99        Judymouth         Honduras         (753)813-6941   \n",
       "\n",
       "                   Phone 2                           Email Subscription Date  \\\n",
       "95    001-841-293-3519x614                hhart@jensen.com         1/30/2022   \n",
       "96            605.413.3198               vkemp@ferrell.com         7/10/2021   \n",
       "97   +1-632-666-7507x92121                swagner@kane.org         9/18/2021   \n",
       "98  001-869-452-0943x12424  mccarthystephen@horn-green.biz         8/11/2021   \n",
       "99            783.639.1472          colleen91@faulkner.biz         3/11/2020   \n",
       "\n",
       "                              Website  \n",
       "95            http://hayes-perez.com/  \n",
       "96         https://novak-allison.com/  \n",
       "97              https://www.ross.com/  \n",
       "98               http://watkins.info/  \n",
       "99  http://www.hatfield-saunders.net/  "
      ]
     },
     "execution_count": 62,
     "metadata": {},
     "output_type": "execute_result"
    }
   ],
   "source": [
    "ndf.tail(5)"
   ]
  },
  {
   "cell_type": "code",
   "execution_count": 63,
   "id": "ba8ee739",
   "metadata": {},
   "outputs": [
    {
     "data": {
      "text/html": [
       "<div>\n",
       "<style scoped>\n",
       "    .dataframe tbody tr th:only-of-type {\n",
       "        vertical-align: middle;\n",
       "    }\n",
       "\n",
       "    .dataframe tbody tr th {\n",
       "        vertical-align: top;\n",
       "    }\n",
       "\n",
       "    .dataframe thead th {\n",
       "        text-align: right;\n",
       "    }\n",
       "</style>\n",
       "<table border=\"1\" class=\"dataframe\">\n",
       "  <thead>\n",
       "    <tr style=\"text-align: right;\">\n",
       "      <th></th>\n",
       "      <th>Name</th>\n",
       "      <th>age</th>\n",
       "      <th>city</th>\n",
       "    </tr>\n",
       "  </thead>\n",
       "  <tbody>\n",
       "    <tr>\n",
       "      <th>0</th>\n",
       "      <td>krish</td>\n",
       "      <td>36</td>\n",
       "      <td>dehradun</td>\n",
       "    </tr>\n",
       "    <tr>\n",
       "      <th>1</th>\n",
       "      <td>rahul</td>\n",
       "      <td>32</td>\n",
       "      <td>banglore</td>\n",
       "    </tr>\n",
       "    <tr>\n",
       "      <th>2</th>\n",
       "      <td>mohan</td>\n",
       "      <td>39</td>\n",
       "      <td>uk</td>\n",
       "    </tr>\n",
       "  </tbody>\n",
       "</table>\n",
       "</div>"
      ],
      "text/plain": [
       "    Name  age      city\n",
       "0  krish   36  dehradun\n",
       "1  rahul   32  banglore\n",
       "2  mohan   39        uk"
      ]
     },
     "execution_count": 63,
     "metadata": {},
     "output_type": "execute_result"
    }
   ],
   "source": [
    "df"
   ]
  },
  {
   "cell_type": "code",
   "execution_count": 64,
   "id": "31156aba",
   "metadata": {},
   "outputs": [
    {
     "data": {
      "text/plain": [
       "0    krish\n",
       "1    rahul\n",
       "2    mohan\n",
       "Name: Name, dtype: object"
      ]
     },
     "execution_count": 64,
     "metadata": {},
     "output_type": "execute_result"
    }
   ],
   "source": [
    "df['Name']"
   ]
  },
  {
   "cell_type": "code",
   "execution_count": 65,
   "id": "57f2aaa4",
   "metadata": {},
   "outputs": [
    {
     "data": {
      "text/plain": [
       "Name       krish\n",
       "age           36\n",
       "city    dehradun\n",
       "Name: 0, dtype: object"
      ]
     },
     "execution_count": 65,
     "metadata": {},
     "output_type": "execute_result"
    }
   ],
   "source": [
    "df.loc[0]"
   ]
  },
  {
   "cell_type": "code",
   "execution_count": 66,
   "id": "4776dcd4",
   "metadata": {},
   "outputs": [
    {
     "name": "stderr",
     "output_type": "stream",
     "text": [
      "C:\\Users\\RAHUL JOSHI\\AppData\\Local\\Temp\\ipykernel_12920\\2519637664.py:1: FutureWarning: Series.__getitem__ treating keys as positions is deprecated. In a future version, integer keys will always be treated as labels (consistent with DataFrame behavior). To access a value by position, use `ser.iloc[pos]`\n",
      "  df.iloc[0][2]\n"
     ]
    },
    {
     "data": {
      "text/plain": [
       "'dehradun'"
      ]
     },
     "execution_count": 66,
     "metadata": {},
     "output_type": "execute_result"
    }
   ],
   "source": [
    "df.iloc[0][2]"
   ]
  },
  {
   "cell_type": "code",
   "execution_count": 67,
   "id": "7057a60f",
   "metadata": {},
   "outputs": [
    {
     "data": {
      "text/plain": [
       "'rahul'"
      ]
     },
     "execution_count": 67,
     "metadata": {},
     "output_type": "execute_result"
    }
   ],
   "source": [
    "df.at[1,'Name']"
   ]
  },
  {
   "cell_type": "code",
   "execution_count": 68,
   "id": "f23502c0",
   "metadata": {},
   "outputs": [
    {
     "data": {
      "text/plain": [
       "'uk'"
      ]
     },
     "execution_count": 68,
     "metadata": {},
     "output_type": "execute_result"
    }
   ],
   "source": [
    "df.iat[2,2]"
   ]
  },
  {
   "cell_type": "code",
   "execution_count": 86,
   "id": "71190c1b",
   "metadata": {},
   "outputs": [
    {
     "data": {
      "text/html": [
       "<div>\n",
       "<style scoped>\n",
       "    .dataframe tbody tr th:only-of-type {\n",
       "        vertical-align: middle;\n",
       "    }\n",
       "\n",
       "    .dataframe tbody tr th {\n",
       "        vertical-align: top;\n",
       "    }\n",
       "\n",
       "    .dataframe thead th {\n",
       "        text-align: right;\n",
       "    }\n",
       "</style>\n",
       "<table border=\"1\" class=\"dataframe\">\n",
       "  <thead>\n",
       "    <tr style=\"text-align: right;\">\n",
       "      <th></th>\n",
       "      <th>Name</th>\n",
       "      <th>age</th>\n",
       "      <th>city</th>\n",
       "      <th>salary</th>\n",
       "    </tr>\n",
       "  </thead>\n",
       "  <tbody>\n",
       "    <tr>\n",
       "      <th>0</th>\n",
       "      <td>krish</td>\n",
       "      <td>38</td>\n",
       "      <td>dehradun</td>\n",
       "      <td>50000</td>\n",
       "    </tr>\n",
       "    <tr>\n",
       "      <th>1</th>\n",
       "      <td>rahul</td>\n",
       "      <td>34</td>\n",
       "      <td>banglore</td>\n",
       "      <td>60000</td>\n",
       "    </tr>\n",
       "    <tr>\n",
       "      <th>2</th>\n",
       "      <td>mohan</td>\n",
       "      <td>41</td>\n",
       "      <td>uk</td>\n",
       "      <td>70000</td>\n",
       "    </tr>\n",
       "  </tbody>\n",
       "</table>\n",
       "</div>"
      ],
      "text/plain": [
       "    Name  age      city  salary\n",
       "0  krish   38  dehradun   50000\n",
       "1  rahul   34  banglore   60000\n",
       "2  mohan   41        uk   70000"
      ]
     },
     "execution_count": 86,
     "metadata": {},
     "output_type": "execute_result"
    }
   ],
   "source": [
    "\n",
    "#addubg a column \n",
    "df['salary'] = [50000,60000,70000]\n",
    "df"
   ]
  },
  {
   "cell_type": "code",
   "execution_count": 88,
   "id": "812a2f42",
   "metadata": {},
   "outputs": [
    {
     "data": {
      "text/html": [
       "<div>\n",
       "<style scoped>\n",
       "    .dataframe tbody tr th:only-of-type {\n",
       "        vertical-align: middle;\n",
       "    }\n",
       "\n",
       "    .dataframe tbody tr th {\n",
       "        vertical-align: top;\n",
       "    }\n",
       "\n",
       "    .dataframe thead th {\n",
       "        text-align: right;\n",
       "    }\n",
       "</style>\n",
       "<table border=\"1\" class=\"dataframe\">\n",
       "  <thead>\n",
       "    <tr style=\"text-align: right;\">\n",
       "      <th></th>\n",
       "      <th>Name</th>\n",
       "      <th>age</th>\n",
       "      <th>city</th>\n",
       "    </tr>\n",
       "  </thead>\n",
       "  <tbody>\n",
       "    <tr>\n",
       "      <th>0</th>\n",
       "      <td>krish</td>\n",
       "      <td>38</td>\n",
       "      <td>dehradun</td>\n",
       "    </tr>\n",
       "    <tr>\n",
       "      <th>1</th>\n",
       "      <td>rahul</td>\n",
       "      <td>34</td>\n",
       "      <td>banglore</td>\n",
       "    </tr>\n",
       "    <tr>\n",
       "      <th>2</th>\n",
       "      <td>mohan</td>\n",
       "      <td>41</td>\n",
       "      <td>uk</td>\n",
       "    </tr>\n",
       "  </tbody>\n",
       "</table>\n",
       "</div>"
      ],
      "text/plain": [
       "    Name  age      city\n",
       "0  krish   38  dehradun\n",
       "1  rahul   34  banglore\n",
       "2  mohan   41        uk"
      ]
     },
     "execution_count": 88,
     "metadata": {},
     "output_type": "execute_result"
    }
   ],
   "source": [
    "#remove a col\n",
    "\n",
    "df.drop('salary',axis = 1)\n"
   ]
  },
  {
   "cell_type": "code",
   "execution_count": 89,
   "id": "8226d36d",
   "metadata": {},
   "outputs": [
    {
     "data": {
      "text/html": [
       "<div>\n",
       "<style scoped>\n",
       "    .dataframe tbody tr th:only-of-type {\n",
       "        vertical-align: middle;\n",
       "    }\n",
       "\n",
       "    .dataframe tbody tr th {\n",
       "        vertical-align: top;\n",
       "    }\n",
       "\n",
       "    .dataframe thead th {\n",
       "        text-align: right;\n",
       "    }\n",
       "</style>\n",
       "<table border=\"1\" class=\"dataframe\">\n",
       "  <thead>\n",
       "    <tr style=\"text-align: right;\">\n",
       "      <th></th>\n",
       "      <th>Name</th>\n",
       "      <th>age</th>\n",
       "      <th>city</th>\n",
       "      <th>salary</th>\n",
       "    </tr>\n",
       "  </thead>\n",
       "  <tbody>\n",
       "    <tr>\n",
       "      <th>0</th>\n",
       "      <td>krish</td>\n",
       "      <td>39</td>\n",
       "      <td>dehradun</td>\n",
       "      <td>50000</td>\n",
       "    </tr>\n",
       "    <tr>\n",
       "      <th>1</th>\n",
       "      <td>rahul</td>\n",
       "      <td>35</td>\n",
       "      <td>banglore</td>\n",
       "      <td>60000</td>\n",
       "    </tr>\n",
       "    <tr>\n",
       "      <th>2</th>\n",
       "      <td>mohan</td>\n",
       "      <td>42</td>\n",
       "      <td>uk</td>\n",
       "      <td>70000</td>\n",
       "    </tr>\n",
       "  </tbody>\n",
       "</table>\n",
       "</div>"
      ],
      "text/plain": [
       "    Name  age      city  salary\n",
       "0  krish   39  dehradun   50000\n",
       "1  rahul   35  banglore   60000\n",
       "2  mohan   42        uk   70000"
      ]
     },
     "execution_count": 89,
     "metadata": {},
     "output_type": "execute_result"
    }
   ],
   "source": [
    "df['age'] = df['age']+1\n",
    "df"
   ]
  },
  {
   "cell_type": "code",
   "execution_count": 90,
   "id": "36cd16dd",
   "metadata": {},
   "outputs": [
    {
     "data": {
      "text/html": [
       "<div>\n",
       "<style scoped>\n",
       "    .dataframe tbody tr th:only-of-type {\n",
       "        vertical-align: middle;\n",
       "    }\n",
       "\n",
       "    .dataframe tbody tr th {\n",
       "        vertical-align: top;\n",
       "    }\n",
       "\n",
       "    .dataframe thead th {\n",
       "        text-align: right;\n",
       "    }\n",
       "</style>\n",
       "<table border=\"1\" class=\"dataframe\">\n",
       "  <thead>\n",
       "    <tr style=\"text-align: right;\">\n",
       "      <th></th>\n",
       "      <th>Name</th>\n",
       "      <th>age</th>\n",
       "      <th>city</th>\n",
       "      <th>salary</th>\n",
       "    </tr>\n",
       "  </thead>\n",
       "  <tbody>\n",
       "    <tr>\n",
       "      <th>1</th>\n",
       "      <td>rahul</td>\n",
       "      <td>35</td>\n",
       "      <td>banglore</td>\n",
       "      <td>60000</td>\n",
       "    </tr>\n",
       "    <tr>\n",
       "      <th>2</th>\n",
       "      <td>mohan</td>\n",
       "      <td>42</td>\n",
       "      <td>uk</td>\n",
       "      <td>70000</td>\n",
       "    </tr>\n",
       "  </tbody>\n",
       "</table>\n",
       "</div>"
      ],
      "text/plain": [
       "    Name  age      city  salary\n",
       "1  rahul   35  banglore   60000\n",
       "2  mohan   42        uk   70000"
      ]
     },
     "execution_count": 90,
     "metadata": {},
     "output_type": "execute_result"
    }
   ],
   "source": [
    "df.drop(0)"
   ]
  },
  {
   "cell_type": "code",
   "execution_count": 91,
   "id": "c3b79ea9",
   "metadata": {},
   "outputs": [
    {
     "data": {
      "text/html": [
       "<div>\n",
       "<style scoped>\n",
       "    .dataframe tbody tr th:only-of-type {\n",
       "        vertical-align: middle;\n",
       "    }\n",
       "\n",
       "    .dataframe tbody tr th {\n",
       "        vertical-align: top;\n",
       "    }\n",
       "\n",
       "    .dataframe thead th {\n",
       "        text-align: right;\n",
       "    }\n",
       "</style>\n",
       "<table border=\"1\" class=\"dataframe\">\n",
       "  <thead>\n",
       "    <tr style=\"text-align: right;\">\n",
       "      <th></th>\n",
       "      <th>age</th>\n",
       "      <th>salary</th>\n",
       "    </tr>\n",
       "  </thead>\n",
       "  <tbody>\n",
       "    <tr>\n",
       "      <th>count</th>\n",
       "      <td>3.000000</td>\n",
       "      <td>3.0</td>\n",
       "    </tr>\n",
       "    <tr>\n",
       "      <th>mean</th>\n",
       "      <td>38.666667</td>\n",
       "      <td>60000.0</td>\n",
       "    </tr>\n",
       "    <tr>\n",
       "      <th>std</th>\n",
       "      <td>3.511885</td>\n",
       "      <td>10000.0</td>\n",
       "    </tr>\n",
       "    <tr>\n",
       "      <th>min</th>\n",
       "      <td>35.000000</td>\n",
       "      <td>50000.0</td>\n",
       "    </tr>\n",
       "    <tr>\n",
       "      <th>25%</th>\n",
       "      <td>37.000000</td>\n",
       "      <td>55000.0</td>\n",
       "    </tr>\n",
       "    <tr>\n",
       "      <th>50%</th>\n",
       "      <td>39.000000</td>\n",
       "      <td>60000.0</td>\n",
       "    </tr>\n",
       "    <tr>\n",
       "      <th>75%</th>\n",
       "      <td>40.500000</td>\n",
       "      <td>65000.0</td>\n",
       "    </tr>\n",
       "    <tr>\n",
       "      <th>max</th>\n",
       "      <td>42.000000</td>\n",
       "      <td>70000.0</td>\n",
       "    </tr>\n",
       "  </tbody>\n",
       "</table>\n",
       "</div>"
      ],
      "text/plain": [
       "             age   salary\n",
       "count   3.000000      3.0\n",
       "mean   38.666667  60000.0\n",
       "std     3.511885  10000.0\n",
       "min    35.000000  50000.0\n",
       "25%    37.000000  55000.0\n",
       "50%    39.000000  60000.0\n",
       "75%    40.500000  65000.0\n",
       "max    42.000000  70000.0"
      ]
     },
     "execution_count": 91,
     "metadata": {},
     "output_type": "execute_result"
    }
   ],
   "source": [
    "df.describe()"
   ]
  },
  {
   "cell_type": "code",
   "execution_count": null,
   "id": "604c5c27",
   "metadata": {},
   "outputs": [],
   "source": []
  }
 ],
 "metadata": {
  "kernelspec": {
   "display_name": "Python 3",
   "language": "python",
   "name": "python3"
  },
  "language_info": {
   "codemirror_mode": {
    "name": "ipython",
    "version": 3
   },
   "file_extension": ".py",
   "mimetype": "text/x-python",
   "name": "python",
   "nbconvert_exporter": "python",
   "pygments_lexer": "ipython3",
   "version": "3.12.3"
  }
 },
 "nbformat": 4,
 "nbformat_minor": 5
}
